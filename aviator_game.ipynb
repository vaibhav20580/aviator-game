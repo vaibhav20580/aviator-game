{
  "nbformat": 4,
  "nbformat_minor": 0,
  "metadata": {
    "colab": {
      "provenance": []
    },
    "kernelspec": {
      "name": "python3",
      "display_name": "Python 3"
    },
    "language_info": {
      "name": "python"
    }
  },
  "cells": [
    {
      "cell_type": "code",
      "execution_count": null,
      "metadata": {
        "colab": {
          "base_uri": "https://localhost:8080/"
        },
        "id": "GuB0FGoTymCA",
        "outputId": "e8eac388-20d7-4680-bd6c-c5b9b98f7167"
      },
      "outputs": [
        {
          "output_type": "stream",
          "name": "stdout",
          "text": [
            "0.9567245049706173\n"
          ]
        }
      ],
      "source": [
        "values = []\n",
        "val = 1.00\n",
        "size = 100000\n",
        "for i in range(size):\n",
        "  values.append(val)\n",
        "  val += 0.01\n",
        "  val = round(val,2)\n",
        "\n",
        "prob = []\n",
        "pdf = [0]\n",
        "sum = 0\n",
        "for i in range(size):\n",
        "  pr = 0.01/(values[i]**(2.05))\n",
        "  prob.append(pr)\n",
        "  sum += pr\n",
        "  pdf.append(sum)\n",
        "print(sum)"
      ]
    },
    {
      "cell_type": "code",
      "source": [
        "import random\n",
        "def generate(pdf, values, size):\n",
        "  num = random.random()\n",
        "  num = num*pdf[size]\n",
        "  for i in range(1,size):\n",
        "    if(num<pdf[i]):\n",
        "      return values[i-1]\n",
        "  return 1.00"
      ],
      "metadata": {
        "id": "HyR_VSAP12Tn"
      },
      "execution_count": null,
      "outputs": []
    },
    {
      "cell_type": "code",
      "source": [
        "for i in range(20):\n",
        "  print(generate(pdf,values,size))"
      ],
      "metadata": {
        "colab": {
          "base_uri": "https://localhost:8080/"
        },
        "id": "-l3yOY764bAQ",
        "outputId": "8189bdbe-2b88-473e-c040-f68bd72c8754"
      },
      "execution_count": null,
      "outputs": [
        {
          "output_type": "stream",
          "name": "stdout",
          "text": [
            "25.56\n",
            "1.12\n",
            "14.62\n",
            "1.34\n",
            "1.2\n",
            "4.62\n",
            "29.33\n",
            "8.68\n",
            "1.61\n",
            "1.54\n",
            "1.02\n",
            "1.39\n",
            "5.81\n",
            "1.03\n",
            "1.15\n",
            "1.11\n",
            "1.14\n",
            "1.81\n",
            "1.66\n",
            "5.73\n"
          ]
        }
      ]
    },
    {
      "cell_type": "code",
      "source": [
        "balance = 100000\n",
        "def play(bet, num, pdf, values, size):\n",
        "  x = generate(pdf,values,size)\n",
        "  rtn = 0\n",
        "  if(num <= x):\n",
        "    rtn = num*bet\n",
        "  profit = rtn - bet\n",
        "  return profit\n",
        "\n",
        "for i in range(50000):\n",
        "  balance += play(100,2.3,pdf,values,size)\n",
        "print(balance)"
      ],
      "metadata": {
        "colab": {
          "base_uri": "https://localhost:8080/"
        },
        "id": "UljWXNhvwnio",
        "outputId": "a694619e-b1c5-4003-920c-2598dcada4b0"
      },
      "execution_count": null,
      "outputs": [
        {
          "output_type": "stream",
          "name": "stdout",
          "text": [
            "-154870.0\n"
          ]
        }
      ]
    }
  ]
}